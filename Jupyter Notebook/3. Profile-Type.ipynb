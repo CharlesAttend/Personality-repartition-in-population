{
 "cells": [
  {
   "cell_type": "code",
   "execution_count": 1,
   "metadata": {},
   "outputs": [],
   "source": [
    "import pandas as pd\n",
    "import numpy as np\n",
    "import warnings"
   ]
  },
  {
   "cell_type": "code",
   "execution_count": 2,
   "metadata": {
    "scrolled": true
   },
   "outputs": [
    {
     "output_type": "execute_result",
     "data": {
      "text/plain": [
       "   race  age  engnat  gender  hand  source country    E    N    A    C    O  \\\n",
       "0     3   53       1       1     1       1      US  3.2  1.9  3.2  3.1  3.1   \n",
       "1    13   46       1       2     1       1      US  2.8  2.9  3.1  2.8  2.6   \n",
       "2     1   14       2       2     1       1      PK  2.9  4.6  3.8  3.3  4.1   \n",
       "3     3   19       2       2     1       1      RO  3.6  4.3  3.7  3.4  3.7   \n",
       "4    11   25       2       2     1       2      US  2.6  3.2  4.0  2.6  2.2   \n",
       "\n",
       "   maximum personality_type  \n",
       "0      3.2                E  \n",
       "1      3.1                A  \n",
       "2      4.6                N  \n",
       "3      4.3                N  \n",
       "4      4.0                A  "
      ],
      "text/html": "<div>\n<style scoped>\n    .dataframe tbody tr th:only-of-type {\n        vertical-align: middle;\n    }\n\n    .dataframe tbody tr th {\n        vertical-align: top;\n    }\n\n    .dataframe thead th {\n        text-align: right;\n    }\n</style>\n<table border=\"1\" class=\"dataframe\">\n  <thead>\n    <tr style=\"text-align: right;\">\n      <th></th>\n      <th>race</th>\n      <th>age</th>\n      <th>engnat</th>\n      <th>gender</th>\n      <th>hand</th>\n      <th>source</th>\n      <th>country</th>\n      <th>E</th>\n      <th>N</th>\n      <th>A</th>\n      <th>C</th>\n      <th>O</th>\n      <th>maximum</th>\n      <th>personality_type</th>\n    </tr>\n  </thead>\n  <tbody>\n    <tr>\n      <th>0</th>\n      <td>3</td>\n      <td>53</td>\n      <td>1</td>\n      <td>1</td>\n      <td>1</td>\n      <td>1</td>\n      <td>US</td>\n      <td>3.2</td>\n      <td>1.9</td>\n      <td>3.2</td>\n      <td>3.1</td>\n      <td>3.1</td>\n      <td>3.2</td>\n      <td>E</td>\n    </tr>\n    <tr>\n      <th>1</th>\n      <td>13</td>\n      <td>46</td>\n      <td>1</td>\n      <td>2</td>\n      <td>1</td>\n      <td>1</td>\n      <td>US</td>\n      <td>2.8</td>\n      <td>2.9</td>\n      <td>3.1</td>\n      <td>2.8</td>\n      <td>2.6</td>\n      <td>3.1</td>\n      <td>A</td>\n    </tr>\n    <tr>\n      <th>2</th>\n      <td>1</td>\n      <td>14</td>\n      <td>2</td>\n      <td>2</td>\n      <td>1</td>\n      <td>1</td>\n      <td>PK</td>\n      <td>2.9</td>\n      <td>4.6</td>\n      <td>3.8</td>\n      <td>3.3</td>\n      <td>4.1</td>\n      <td>4.6</td>\n      <td>N</td>\n    </tr>\n    <tr>\n      <th>3</th>\n      <td>3</td>\n      <td>19</td>\n      <td>2</td>\n      <td>2</td>\n      <td>1</td>\n      <td>1</td>\n      <td>RO</td>\n      <td>3.6</td>\n      <td>4.3</td>\n      <td>3.7</td>\n      <td>3.4</td>\n      <td>3.7</td>\n      <td>4.3</td>\n      <td>N</td>\n    </tr>\n    <tr>\n      <th>4</th>\n      <td>11</td>\n      <td>25</td>\n      <td>2</td>\n      <td>2</td>\n      <td>1</td>\n      <td>2</td>\n      <td>US</td>\n      <td>2.6</td>\n      <td>3.2</td>\n      <td>4.0</td>\n      <td>2.6</td>\n      <td>2.2</td>\n      <td>4.0</td>\n      <td>A</td>\n    </tr>\n  </tbody>\n</table>\n</div>"
     },
     "metadata": {},
     "execution_count": 2
    }
   ],
   "source": [
    "data = pd.read_csv(\"data_with_mean&max.csv\",sep=\",\")\n",
    "data.head()"
   ]
  },
  {
   "cell_type": "markdown",
   "metadata": {},
   "source": [
    "<div style=\"font-size: medium\">Nous allons donc chercher le profile-type grâce à l'aide de différents moyens.\n",
    "Nous procéderons par colonnes.</div>"
   ]
  },
  {
   "cell_type": "markdown",
   "metadata": {},
   "source": [
    "<div style=\"color: darkviolet; font-size: x-large\">Race:</div>"
   ]
  },
  {
   "cell_type": "code",
   "execution_count": 3,
   "metadata": {
    "scrolled": true
   },
   "outputs": [
    {
     "output_type": "execute_result",
     "data": {
      "text/plain": [
       "race   0     1   2      3     4    5    6   7    8    9   10    11   12    13\n",
       "age   153  1434  14  10537  1518  515  397  24  201  188  65  1861  259  2553"
      ],
      "text/html": "<div>\n<style scoped>\n    .dataframe tbody tr th:only-of-type {\n        vertical-align: middle;\n    }\n\n    .dataframe tbody tr th {\n        vertical-align: top;\n    }\n\n    .dataframe thead th {\n        text-align: right;\n    }\n</style>\n<table border=\"1\" class=\"dataframe\">\n  <thead>\n    <tr style=\"text-align: right;\">\n      <th>race</th>\n      <th>0</th>\n      <th>1</th>\n      <th>2</th>\n      <th>3</th>\n      <th>4</th>\n      <th>5</th>\n      <th>6</th>\n      <th>7</th>\n      <th>8</th>\n      <th>9</th>\n      <th>10</th>\n      <th>11</th>\n      <th>12</th>\n      <th>13</th>\n    </tr>\n  </thead>\n  <tbody>\n    <tr>\n      <th>age</th>\n      <td>153</td>\n      <td>1434</td>\n      <td>14</td>\n      <td>10537</td>\n      <td>1518</td>\n      <td>515</td>\n      <td>397</td>\n      <td>24</td>\n      <td>201</td>\n      <td>188</td>\n      <td>65</td>\n      <td>1861</td>\n      <td>259</td>\n      <td>2553</td>\n    </tr>\n  </tbody>\n</table>\n</div>"
     },
     "metadata": {},
     "execution_count": 3
    }
   ],
   "source": [
    "race = data.pivot_table(columns='race',values='age',aggfunc='count')\n",
    "race"
   ]
  },
  {
   "cell_type": "code",
   "execution_count": 4,
   "metadata": {},
   "outputs": [
    {
     "output_type": "execute_result",
     "data": {
      "text/plain": [
       "age    3\n",
       "dtype: int64"
      ]
     },
     "metadata": {},
     "execution_count": 4
    }
   ],
   "source": [
    "race.idxmax(axis=1)"
   ]
  },
  {
   "cell_type": "markdown",
   "metadata": {},
   "source": [
    "Nous allons choisir la race numéro 3 (Caucasian (European))."
   ]
  },
  {
   "cell_type": "markdown",
   "metadata": {},
   "source": [
    "<div style=\"color: darkviolet; font-size: x-large\">Age :</div>"
   ]
  },
  {
   "cell_type": "code",
   "execution_count": 5,
   "metadata": {},
   "outputs": [],
   "source": [
    "age = data[data[\"age\"] <= 110]"
   ]
  },
  {
   "cell_type": "code",
   "execution_count": 6,
   "metadata": {},
   "outputs": [
    {
     "output_type": "execute_result",
     "data": {
      "text/plain": [
       "age    26.263801\n",
       "dtype: float64"
      ]
     },
     "metadata": {},
     "execution_count": 6
    }
   ],
   "source": [
    "age[['age']].mean(axis=0)"
   ]
  },
  {
   "cell_type": "markdown",
   "metadata": {},
   "source": [
    "On voit que l'âge moyen est 26,3 ans."
   ]
  },
  {
   "cell_type": "markdown",
   "metadata": {},
   "source": [
    "<div style=\"color: darkviolet; font-size: x-large\">Engnat :<div style=\"font-size: medium\">(Réponse à \"is English your native language?\")</div></div>"
   ]
  },
  {
   "cell_type": "code",
   "execution_count": 7,
   "metadata": {
    "scrolled": true
   },
   "outputs": [
    {
     "output_type": "execute_result",
     "data": {
      "text/plain": [
       "engnat    1.0\n",
       "dtype: float64"
      ]
     },
     "metadata": {},
     "execution_count": 7
    }
   ],
   "source": [
    "data[['engnat']].median(axis=0)"
   ]
  },
  {
   "cell_type": "code",
   "execution_count": 8,
   "metadata": {},
   "outputs": [
    {
     "output_type": "execute_result",
     "data": {
      "text/plain": [
       "engnat   0      1     2\n",
       "age     70  12379  7270"
      ],
      "text/html": "<div>\n<style scoped>\n    .dataframe tbody tr th:only-of-type {\n        vertical-align: middle;\n    }\n\n    .dataframe tbody tr th {\n        vertical-align: top;\n    }\n\n    .dataframe thead th {\n        text-align: right;\n    }\n</style>\n<table border=\"1\" class=\"dataframe\">\n  <thead>\n    <tr style=\"text-align: right;\">\n      <th>engnat</th>\n      <th>0</th>\n      <th>1</th>\n      <th>2</th>\n    </tr>\n  </thead>\n  <tbody>\n    <tr>\n      <th>age</th>\n      <td>70</td>\n      <td>12379</td>\n      <td>7270</td>\n    </tr>\n  </tbody>\n</table>\n</div>"
     },
     "metadata": {},
     "execution_count": 8
    }
   ],
   "source": [
    "data.pivot_table(columns='engnat',values='age',aggfunc='count')"
   ]
  },
  {
   "cell_type": "markdown",
   "metadata": {},
   "source": [
    "On voit que le résultat est 1, soit \"yes\" à la question dite précedement."
   ]
  },
  {
   "cell_type": "markdown",
   "metadata": {},
   "source": [
    "<div style=\"color: darkviolet; font-size: x-large\">Gender :<div style=\"font-size: medium\">(1=Male, 2=Female, 3=Other)</div></div>"
   ]
  },
  {
   "cell_type": "code",
   "execution_count": 9,
   "metadata": {},
   "outputs": [
    {
     "output_type": "execute_result",
     "data": {
      "text/plain": [
       "gender    2.0\n",
       "dtype: float64"
      ]
     },
     "metadata": {},
     "execution_count": 9
    }
   ],
   "source": [
    "data[['gender']].median(axis=0)"
   ]
  },
  {
   "cell_type": "code",
   "execution_count": 10,
   "metadata": {},
   "outputs": [
    {
     "output_type": "execute_result",
     "data": {
      "text/plain": [
       "gender   0     1      2    3\n",
       "age     24  7608  11985  102"
      ],
      "text/html": "<div>\n<style scoped>\n    .dataframe tbody tr th:only-of-type {\n        vertical-align: middle;\n    }\n\n    .dataframe tbody tr th {\n        vertical-align: top;\n    }\n\n    .dataframe thead th {\n        text-align: right;\n    }\n</style>\n<table border=\"1\" class=\"dataframe\">\n  <thead>\n    <tr style=\"text-align: right;\">\n      <th>gender</th>\n      <th>0</th>\n      <th>1</th>\n      <th>2</th>\n      <th>3</th>\n    </tr>\n  </thead>\n  <tbody>\n    <tr>\n      <th>age</th>\n      <td>24</td>\n      <td>7608</td>\n      <td>11985</td>\n      <td>102</td>\n    </tr>\n  </tbody>\n</table>\n</div>"
     },
     "metadata": {},
     "execution_count": 10
    }
   ],
   "source": [
    "data.pivot_table(columns='gender',values='age',aggfunc='count')"
   ]
  },
  {
   "cell_type": "markdown",
   "metadata": {},
   "source": [
    "On voit que le résultat est 2, il s'agit donc d'une femme."
   ]
  },
  {
   "cell_type": "markdown",
   "metadata": {},
   "source": [
    "<div style=\"color: darkviolet; font-size: x-large\">Hand :<div style=\"font-size: medium\">(\"What hand do you use to write with?\" 1=Right, 2=Left, 3=Both)</div></div>"
   ]
  },
  {
   "cell_type": "code",
   "execution_count": 11,
   "metadata": {},
   "outputs": [
    {
     "output_type": "execute_result",
     "data": {
      "text/plain": [
       "hand    1.0\n",
       "dtype: float64"
      ]
     },
     "metadata": {},
     "execution_count": 11
    }
   ],
   "source": [
    "data[['hand']].median(axis=0)"
   ]
  },
  {
   "cell_type": "code",
   "execution_count": 12,
   "metadata": {},
   "outputs": [
    {
     "output_type": "execute_result",
     "data": {
      "text/plain": [
       "hand    0      1     2    3\n",
       "age   100  17424  1724  471"
      ],
      "text/html": "<div>\n<style scoped>\n    .dataframe tbody tr th:only-of-type {\n        vertical-align: middle;\n    }\n\n    .dataframe tbody tr th {\n        vertical-align: top;\n    }\n\n    .dataframe thead th {\n        text-align: right;\n    }\n</style>\n<table border=\"1\" class=\"dataframe\">\n  <thead>\n    <tr style=\"text-align: right;\">\n      <th>hand</th>\n      <th>0</th>\n      <th>1</th>\n      <th>2</th>\n      <th>3</th>\n    </tr>\n  </thead>\n  <tbody>\n    <tr>\n      <th>age</th>\n      <td>100</td>\n      <td>17424</td>\n      <td>1724</td>\n      <td>471</td>\n    </tr>\n  </tbody>\n</table>\n</div>"
     },
     "metadata": {},
     "execution_count": 12
    }
   ],
   "source": [
    "data.pivot_table(columns='hand',values='age',aggfunc='count')"
   ]
  },
  {
   "cell_type": "markdown",
   "metadata": {},
   "source": [
    "On voit que le résultat est 1, il s'agit donc d'une droitière."
   ]
  },
  {
   "cell_type": "markdown",
   "metadata": {},
   "source": [
    "<div style=\"color: darkviolet; font-size: x-large\">Source (Réponse à \"How the participant came to the test.\"):</div>"
   ]
  },
  {
   "cell_type": "code",
   "execution_count": 13,
   "metadata": {},
   "outputs": [
    {
     "output_type": "execute_result",
     "data": {
      "text/plain": [
       "source    1.0\n",
       "dtype: float64"
      ]
     },
     "metadata": {},
     "execution_count": 13
    }
   ],
   "source": [
    "data[['source']].median(axis=0)"
   ]
  },
  {
   "cell_type": "code",
   "execution_count": 14,
   "metadata": {},
   "outputs": [
    {
     "output_type": "execute_result",
     "data": {
      "text/plain": [
       "source      1     2    3    4     5\n",
       "age     12099  3653  303  137  3527"
      ],
      "text/html": "<div>\n<style scoped>\n    .dataframe tbody tr th:only-of-type {\n        vertical-align: middle;\n    }\n\n    .dataframe tbody tr th {\n        vertical-align: top;\n    }\n\n    .dataframe thead th {\n        text-align: right;\n    }\n</style>\n<table border=\"1\" class=\"dataframe\">\n  <thead>\n    <tr style=\"text-align: right;\">\n      <th>source</th>\n      <th>1</th>\n      <th>2</th>\n      <th>3</th>\n      <th>4</th>\n      <th>5</th>\n    </tr>\n  </thead>\n  <tbody>\n    <tr>\n      <th>age</th>\n      <td>12099</td>\n      <td>3653</td>\n      <td>303</td>\n      <td>137</td>\n      <td>3527</td>\n    </tr>\n  </tbody>\n</table>\n</div>"
     },
     "metadata": {},
     "execution_count": 14
    }
   ],
   "source": [
    "data.pivot_table(columns='source',values='age',aggfunc='count')"
   ]
  },
  {
   "cell_type": "markdown",
   "metadata": {},
   "source": [
    "On voit que le résultat maximum est 1, le participant vient d'une autre page sur le même site. (from another page on the test website)."
   ]
  },
  {
   "cell_type": "markdown",
   "metadata": {},
   "source": [
    "<div style=\"color: darkviolet; font-size: x-large\">Country :</div>"
   ]
  },
  {
   "cell_type": "code",
   "execution_count": 15,
   "metadata": {},
   "outputs": [
    {
     "output_type": "execute_result",
     "data": {
      "text/plain": [
       "country  (nu  A1  A2   AE  AG  AL  AO  AP  AR  AS  ...    US  UY  UZ  VC  VE  \\\n",
       "age      369   8   9  100   1  12   1  19  41   1  ...  8753   2   1   2  17   \n",
       "\n",
       "country  VI  VN   ZA  ZM  ZW  \n",
       "age       2  30  179   2   3  \n",
       "\n",
       "[1 rows x 158 columns]"
      ],
      "text/html": "<div>\n<style scoped>\n    .dataframe tbody tr th:only-of-type {\n        vertical-align: middle;\n    }\n\n    .dataframe tbody tr th {\n        vertical-align: top;\n    }\n\n    .dataframe thead th {\n        text-align: right;\n    }\n</style>\n<table border=\"1\" class=\"dataframe\">\n  <thead>\n    <tr style=\"text-align: right;\">\n      <th>country</th>\n      <th>(nu</th>\n      <th>A1</th>\n      <th>A2</th>\n      <th>AE</th>\n      <th>AG</th>\n      <th>AL</th>\n      <th>AO</th>\n      <th>AP</th>\n      <th>AR</th>\n      <th>AS</th>\n      <th>...</th>\n      <th>US</th>\n      <th>UY</th>\n      <th>UZ</th>\n      <th>VC</th>\n      <th>VE</th>\n      <th>VI</th>\n      <th>VN</th>\n      <th>ZA</th>\n      <th>ZM</th>\n      <th>ZW</th>\n    </tr>\n  </thead>\n  <tbody>\n    <tr>\n      <th>age</th>\n      <td>369</td>\n      <td>8</td>\n      <td>9</td>\n      <td>100</td>\n      <td>1</td>\n      <td>12</td>\n      <td>1</td>\n      <td>19</td>\n      <td>41</td>\n      <td>1</td>\n      <td>...</td>\n      <td>8753</td>\n      <td>2</td>\n      <td>1</td>\n      <td>2</td>\n      <td>17</td>\n      <td>2</td>\n      <td>30</td>\n      <td>179</td>\n      <td>2</td>\n      <td>3</td>\n    </tr>\n  </tbody>\n</table>\n<p>1 rows × 158 columns</p>\n</div>"
     },
     "metadata": {},
     "execution_count": 15
    }
   ],
   "source": [
    "pays = data.pivot_table(columns='country',values='age',aggfunc='count')\n",
    "pays"
   ]
  },
  {
   "cell_type": "code",
   "execution_count": 16,
   "metadata": {},
   "outputs": [
    {
     "output_type": "execute_result",
     "data": {
      "text/plain": [
       "age    US\n",
       "dtype: object"
      ]
     },
     "metadata": {},
     "execution_count": 16
    }
   ],
   "source": [
    "pays.idxmax(axis=1)"
   ]
  },
  {
   "cell_type": "markdown",
   "metadata": {},
   "source": [
    "On remarque que le pays est Etats-Unis."
   ]
  },
  {
   "cell_type": "markdown",
   "metadata": {},
   "source": [
    "<div style=\"color: darkred; font-size: medium\">Le <u>Profile-Type</u> est donc une <strong>femme</strong> de type <strong>Caucasienne</strong> (d'Europe), qui a <strong>26</strong>ans, pour qui la langue natale est l'<strong>anglais</strong>, <strong>droitière</strong>, qui vit aux <strong>Etats-Unis</strong> et qui vient d'une autre page sur le même site.</div>"
   ]
  },
  {
   "cell_type": "markdown",
   "metadata": {},
   "source": [
    "<div style=\"font-size: medium\">Nous allons maintenant nous occuper des réponses attendues, celles qui sont le plus répendues.</div>"
   ]
  },
  {
   "cell_type": "markdown",
   "metadata": {},
   "source": [
    "<div style=\"color: darkviolet; font-size: x-large\">Pour E :</div>"
   ]
  },
  {
   "cell_type": "code",
   "execution_count": 17,
   "metadata": {},
   "outputs": [
    {
     "output_type": "execute_result",
     "data": {
      "text/plain": [
       "3.1"
      ]
     },
     "metadata": {},
     "execution_count": 17
    }
   ],
   "source": [
    "round(data[\"E\"].mean(), 1)"
   ]
  },
  {
   "cell_type": "markdown",
   "metadata": {},
   "source": [
    "On observe que la moyenne pour \"E\" est environ 3.1"
   ]
  },
  {
   "cell_type": "markdown",
   "metadata": {},
   "source": [
    "<div style=\"color: darkviolet; font-size: x-large\">Pour N :</div>"
   ]
  },
  {
   "cell_type": "code",
   "execution_count": 18,
   "metadata": {},
   "outputs": [
    {
     "output_type": "execute_result",
     "data": {
      "text/plain": [
       "3.1"
      ]
     },
     "metadata": {},
     "execution_count": 18
    }
   ],
   "source": [
    "round(data[\"N\"].mean(), 1)"
   ]
  },
  {
   "cell_type": "markdown",
   "metadata": {},
   "source": [
    "On observe que la moyenne pour \"N\" est également d'environ 3.1"
   ]
  },
  {
   "cell_type": "markdown",
   "metadata": {},
   "source": [
    "<div style=\"color: darkviolet; font-size: x-large\">Pour A :</div>"
   ]
  },
  {
   "cell_type": "code",
   "execution_count": 19,
   "metadata": {},
   "outputs": [
    {
     "output_type": "execute_result",
     "data": {
      "text/plain": [
       "3.2"
      ]
     },
     "metadata": {},
     "execution_count": 19
    }
   ],
   "source": [
    "round(data[\"A\"].mean(), 1)"
   ]
  },
  {
   "cell_type": "markdown",
   "metadata": {},
   "source": [
    "On observe que la moyenne pour \"A\" est environ 3.2"
   ]
  },
  {
   "cell_type": "markdown",
   "metadata": {},
   "source": [
    "<div style=\"color: darkviolet; font-size: x-large\">Pour C :</div>"
   ]
  },
  {
   "cell_type": "code",
   "execution_count": 20,
   "metadata": {},
   "outputs": [
    {
     "output_type": "execute_result",
     "data": {
      "text/plain": [
       "3.2"
      ]
     },
     "metadata": {},
     "execution_count": 20
    }
   ],
   "source": [
    "round(data[\"C\"].mean(), 1)"
   ]
  },
  {
   "cell_type": "markdown",
   "metadata": {},
   "source": [
    "On observe que la moyenne pour \"C\" est environ 3.1"
   ]
  },
  {
   "cell_type": "markdown",
   "metadata": {},
   "source": [
    "<div style=\"color: darkviolet; font-size: x-large\">Pour O :</div>"
   ]
  },
  {
   "cell_type": "code",
   "execution_count": 21,
   "metadata": {},
   "outputs": [
    {
     "output_type": "execute_result",
     "data": {
      "text/plain": [
       "3.3"
      ]
     },
     "metadata": {},
     "execution_count": 21
    }
   ],
   "source": [
    "round(data[\"O\"].mean(), 1)"
   ]
  },
  {
   "cell_type": "markdown",
   "metadata": {},
   "source": [
    "On observe que la moyenne pour \"O\" est environ 3.3"
   ]
  },
  {
   "cell_type": "markdown",
   "metadata": {},
   "source": [
    "<div style=\"color: darkviolet; font-size: large\">Pour le type de personnalité :</div>"
   ]
  },
  {
   "cell_type": "code",
   "execution_count": 22,
   "metadata": {},
   "outputs": [
    {
     "output_type": "execute_result",
     "data": {
      "text/plain": [
       "N    5700\n",
       "O    5486\n",
       "A    3288\n",
       "E    2690\n",
       "C    2555\n",
       "Name: personality_type, dtype: int64"
      ]
     },
     "metadata": {},
     "execution_count": 22
    }
   ],
   "source": [
    "data[\"personality_type\"].value_counts()"
   ]
  },
  {
   "cell_type": "markdown",
   "metadata": {},
   "source": [
    "On remarque que la peronnalité la plus répendue est \"N\"."
   ]
  },
  {
   "cell_type": "markdown",
   "metadata": {},
   "source": [
    "<div style=\"color: darkred; font-size: medium\">Le <u>Profile-Type</u> a donc un résultat au test, en moyenne de <strong>3.0</strong> pour les questions de type <strong>\"E\"</strong> et <strong>\"N\"</strong>, de <strong>3.2</strong> pour les questions de type <strong>\"A\"</strong> et <strong>\"C\"</strong> et de <strong>3.4</strong> pour les questions de type <strong>\"O\"</strong>. De plus, la personnalité définie pour ce profil est <strong>'N'</strong>.</div>"
   ]
  },
  {
   "cell_type": "code",
   "execution_count": 23,
   "metadata": {},
   "outputs": [
    {
     "output_type": "execute_result",
     "data": {
      "text/plain": [
       "                   Race   Age Native language  Gender   Hand  \\\n",
       "0  Caucasian (European)  26,3         English  Female  Right   \n",
       "\n",
       "                        Where is he from        Country    E    N    A    C  \\\n",
       "0  from another page on the test website  United States  3.1  3.1  3.2  3.2   \n",
       "\n",
       "     O Personality_type  \n",
       "0  3.4                N  "
      ],
      "text/html": "<div>\n<style scoped>\n    .dataframe tbody tr th:only-of-type {\n        vertical-align: middle;\n    }\n\n    .dataframe tbody tr th {\n        vertical-align: top;\n    }\n\n    .dataframe thead th {\n        text-align: right;\n    }\n</style>\n<table border=\"1\" class=\"dataframe\">\n  <thead>\n    <tr style=\"text-align: right;\">\n      <th></th>\n      <th>Race</th>\n      <th>Age</th>\n      <th>Native language</th>\n      <th>Gender</th>\n      <th>Hand</th>\n      <th>Where is he from</th>\n      <th>Country</th>\n      <th>E</th>\n      <th>N</th>\n      <th>A</th>\n      <th>C</th>\n      <th>O</th>\n      <th>Personality_type</th>\n    </tr>\n  </thead>\n  <tbody>\n    <tr>\n      <th>0</th>\n      <td>Caucasian (European)</td>\n      <td>26,3</td>\n      <td>English</td>\n      <td>Female</td>\n      <td>Right</td>\n      <td>from another page on the test website</td>\n      <td>United States</td>\n      <td>3.1</td>\n      <td>3.1</td>\n      <td>3.2</td>\n      <td>3.2</td>\n      <td>3.4</td>\n      <td>N</td>\n    </tr>\n  </tbody>\n</table>\n</div>"
     },
     "metadata": {},
     "execution_count": 23
    }
   ],
   "source": [
    "Donnée = {'Race':  ['Caucasian (European)'],'Age': ['26,3'],'Native language':  ['English'],'Gender':  ['Female'],'Hand':  ['Right'],'Where is he from':  ['from another page on the test website'],'Country':  ['United States'],'E':  ['3.1'],'N':  ['3.1'],'A':  ['3.2'],'C':  ['3.2'],'O':  ['3.4'],'Personality_type': ['N']}\n",
    "\n",
    "Profile_Type = pd.DataFrame(Donnée,columns=['Race','Age','Native language','Gender','Hand','Where is he from','Country','E','N','A','C','O','Personality_type'])\n",
    "Profile_Type"
   ]
  },
  {
   "cell_type": "code",
   "execution_count": null,
   "metadata": {},
   "outputs": [],
   "source": []
  }
 ],
 "metadata": {
  "kernelspec": {
   "display_name": "Python 3",
   "language": "python",
   "name": "python3"
  },
  "language_info": {
   "codemirror_mode": {
    "name": "ipython",
    "version": 3
   },
   "file_extension": ".py",
   "mimetype": "text/x-python",
   "name": "python",
   "nbconvert_exporter": "python",
   "pygments_lexer": "ipython3",
   "version": "3.7.3-final"
  }
 },
 "nbformat": 4,
 "nbformat_minor": 2
}