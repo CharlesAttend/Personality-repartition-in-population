{
 "cells": [
  {
   "cell_type": "code",
   "execution_count": 1,
   "metadata": {},
   "outputs": [],
   "source": [
    "import pandas as pd\n",
    "import numpy as np\n",
    "import warnings"
   ]
  },
  {
   "cell_type": "code",
   "execution_count": 2,
   "metadata": {
    "scrolled": true
   },
   "outputs": [
    {
     "output_type": "execute_result",
     "data": {
      "text/plain": [
       "   race  age  engnat  gender  hand  source country  E1  E2  E3  ...  O1  O2  \\\n",
       "0     3   53       1       1     1       1      US   4   2   5  ...   4   1   \n",
       "1    13   46       1       2     1       1      US   2   2   3  ...   3   3   \n",
       "2     1   14       2       2     1       1      PK   5   1   1  ...   4   5   \n",
       "3     3   19       2       2     1       1      RO   2   5   2  ...   4   3   \n",
       "4    11   25       2       2     1       2      US   3   1   3  ...   3   1   \n",
       "\n",
       "   O3  O4  O5  O6  O7  O8  O9  O10  \n",
       "0   3   1   5   1   4   2   5    5  \n",
       "1   3   3   2   3   3   1   3    2  \n",
       "2   5   1   5   1   5   5   5    5  \n",
       "3   5   2   4   2   5   2   5    5  \n",
       "4   1   1   3   1   3   1   5    3  \n",
       "\n",
       "[5 rows x 57 columns]"
      ],
      "text/html": "<div>\n<style scoped>\n    .dataframe tbody tr th:only-of-type {\n        vertical-align: middle;\n    }\n\n    .dataframe tbody tr th {\n        vertical-align: top;\n    }\n\n    .dataframe thead th {\n        text-align: right;\n    }\n</style>\n<table border=\"1\" class=\"dataframe\">\n  <thead>\n    <tr style=\"text-align: right;\">\n      <th></th>\n      <th>race</th>\n      <th>age</th>\n      <th>engnat</th>\n      <th>gender</th>\n      <th>hand</th>\n      <th>source</th>\n      <th>country</th>\n      <th>E1</th>\n      <th>E2</th>\n      <th>E3</th>\n      <th>...</th>\n      <th>O1</th>\n      <th>O2</th>\n      <th>O3</th>\n      <th>O4</th>\n      <th>O5</th>\n      <th>O6</th>\n      <th>O7</th>\n      <th>O8</th>\n      <th>O9</th>\n      <th>O10</th>\n    </tr>\n  </thead>\n  <tbody>\n    <tr>\n      <th>0</th>\n      <td>3</td>\n      <td>53</td>\n      <td>1</td>\n      <td>1</td>\n      <td>1</td>\n      <td>1</td>\n      <td>US</td>\n      <td>4</td>\n      <td>2</td>\n      <td>5</td>\n      <td>...</td>\n      <td>4</td>\n      <td>1</td>\n      <td>3</td>\n      <td>1</td>\n      <td>5</td>\n      <td>1</td>\n      <td>4</td>\n      <td>2</td>\n      <td>5</td>\n      <td>5</td>\n    </tr>\n    <tr>\n      <th>1</th>\n      <td>13</td>\n      <td>46</td>\n      <td>1</td>\n      <td>2</td>\n      <td>1</td>\n      <td>1</td>\n      <td>US</td>\n      <td>2</td>\n      <td>2</td>\n      <td>3</td>\n      <td>...</td>\n      <td>3</td>\n      <td>3</td>\n      <td>3</td>\n      <td>3</td>\n      <td>2</td>\n      <td>3</td>\n      <td>3</td>\n      <td>1</td>\n      <td>3</td>\n      <td>2</td>\n    </tr>\n    <tr>\n      <th>2</th>\n      <td>1</td>\n      <td>14</td>\n      <td>2</td>\n      <td>2</td>\n      <td>1</td>\n      <td>1</td>\n      <td>PK</td>\n      <td>5</td>\n      <td>1</td>\n      <td>1</td>\n      <td>...</td>\n      <td>4</td>\n      <td>5</td>\n      <td>5</td>\n      <td>1</td>\n      <td>5</td>\n      <td>1</td>\n      <td>5</td>\n      <td>5</td>\n      <td>5</td>\n      <td>5</td>\n    </tr>\n    <tr>\n      <th>3</th>\n      <td>3</td>\n      <td>19</td>\n      <td>2</td>\n      <td>2</td>\n      <td>1</td>\n      <td>1</td>\n      <td>RO</td>\n      <td>2</td>\n      <td>5</td>\n      <td>2</td>\n      <td>...</td>\n      <td>4</td>\n      <td>3</td>\n      <td>5</td>\n      <td>2</td>\n      <td>4</td>\n      <td>2</td>\n      <td>5</td>\n      <td>2</td>\n      <td>5</td>\n      <td>5</td>\n    </tr>\n    <tr>\n      <th>4</th>\n      <td>11</td>\n      <td>25</td>\n      <td>2</td>\n      <td>2</td>\n      <td>1</td>\n      <td>2</td>\n      <td>US</td>\n      <td>3</td>\n      <td>1</td>\n      <td>3</td>\n      <td>...</td>\n      <td>3</td>\n      <td>1</td>\n      <td>1</td>\n      <td>1</td>\n      <td>3</td>\n      <td>1</td>\n      <td>3</td>\n      <td>1</td>\n      <td>5</td>\n      <td>3</td>\n    </tr>\n  </tbody>\n</table>\n<p>5 rows × 57 columns</p>\n</div>"
     },
     "metadata": {},
     "execution_count": 2
    }
   ],
   "source": [
    "data = pd.read_csv(\"data.csv\",sep=\"\\t\")\n",
    "data.head()"
   ]
  },
  {
   "cell_type": "markdown",
   "metadata": {},
   "source": [
    "<div style=\"font-size: medium\">Moyenne par catégorie de questions pour le monde :</div>"
   ]
  },
  {
   "cell_type": "code",
   "execution_count": 3,
   "metadata": {
    "scrolled": true
   },
   "outputs": [
    {
     "output_type": "execute_result",
     "data": {
      "text/plain": [
       "   race  age  engnat  gender  hand  source country    E    N    A    C    O\n",
       "0     3   53       1       1     1       1      US  3.2  1.9  3.2  3.1  3.1\n",
       "1    13   46       1       2     1       1      US  2.8  2.9  3.1  2.8  2.6\n",
       "2     1   14       2       2     1       1      PK  2.9  4.6  3.8  3.3  4.1\n",
       "3     3   19       2       2     1       1      RO  3.6  4.3  3.7  3.4  3.7\n",
       "4    11   25       2       2     1       2      US  2.6  3.2  4.0  2.6  2.2"
      ],
      "text/html": "<div>\n<style scoped>\n    .dataframe tbody tr th:only-of-type {\n        vertical-align: middle;\n    }\n\n    .dataframe tbody tr th {\n        vertical-align: top;\n    }\n\n    .dataframe thead th {\n        text-align: right;\n    }\n</style>\n<table border=\"1\" class=\"dataframe\">\n  <thead>\n    <tr style=\"text-align: right;\">\n      <th></th>\n      <th>race</th>\n      <th>age</th>\n      <th>engnat</th>\n      <th>gender</th>\n      <th>hand</th>\n      <th>source</th>\n      <th>country</th>\n      <th>E</th>\n      <th>N</th>\n      <th>A</th>\n      <th>C</th>\n      <th>O</th>\n    </tr>\n  </thead>\n  <tbody>\n    <tr>\n      <th>0</th>\n      <td>3</td>\n      <td>53</td>\n      <td>1</td>\n      <td>1</td>\n      <td>1</td>\n      <td>1</td>\n      <td>US</td>\n      <td>3.2</td>\n      <td>1.9</td>\n      <td>3.2</td>\n      <td>3.1</td>\n      <td>3.1</td>\n    </tr>\n    <tr>\n      <th>1</th>\n      <td>13</td>\n      <td>46</td>\n      <td>1</td>\n      <td>2</td>\n      <td>1</td>\n      <td>1</td>\n      <td>US</td>\n      <td>2.8</td>\n      <td>2.9</td>\n      <td>3.1</td>\n      <td>2.8</td>\n      <td>2.6</td>\n    </tr>\n    <tr>\n      <th>2</th>\n      <td>1</td>\n      <td>14</td>\n      <td>2</td>\n      <td>2</td>\n      <td>1</td>\n      <td>1</td>\n      <td>PK</td>\n      <td>2.9</td>\n      <td>4.6</td>\n      <td>3.8</td>\n      <td>3.3</td>\n      <td>4.1</td>\n    </tr>\n    <tr>\n      <th>3</th>\n      <td>3</td>\n      <td>19</td>\n      <td>2</td>\n      <td>2</td>\n      <td>1</td>\n      <td>1</td>\n      <td>RO</td>\n      <td>3.6</td>\n      <td>4.3</td>\n      <td>3.7</td>\n      <td>3.4</td>\n      <td>3.7</td>\n    </tr>\n    <tr>\n      <th>4</th>\n      <td>11</td>\n      <td>25</td>\n      <td>2</td>\n      <td>2</td>\n      <td>1</td>\n      <td>2</td>\n      <td>US</td>\n      <td>2.6</td>\n      <td>3.2</td>\n      <td>4.0</td>\n      <td>2.6</td>\n      <td>2.2</td>\n    </tr>\n  </tbody>\n</table>\n</div>"
     },
     "metadata": {},
     "execution_count": 3
    }
   ],
   "source": [
    "dmoy = data[['race','age','engnat','gender','hand','source','country']]\n",
    "dmoy[\"E\"] = data[['E1','E2','E3','E4','E5','E6','E7','E8','E9','E10']].mean(axis=1)\n",
    "\n",
    "dmoy[\"N\"]=data[['N1','N2','N3','N4','N5','N6','N7','N8','N9','N10']].mean(axis=1)\n",
    "\n",
    "dmoy[\"A\"]=data[['A1','A2','A3','A4','A5','A6','A7','A8','A9','A10']].mean(axis=1)\n",
    "\n",
    "dmoy[\"C\"]=data[['C1','C2','C3','C4','C5','C6','C7','C8','C9','C10']].mean(axis=1)\n",
    "\n",
    "dmoy[\"O\"]=data[['O1','O2','O3','O4','O5','O6','O7','O8','O9','O10']].mean(axis=1)\n",
    "dmoy.head()\n",
    "\n"
   ]
  },
  {
   "cell_type": "code",
   "execution_count": 4,
   "metadata": {},
   "outputs": [
    {
     "output_type": "execute_result",
     "data": {
      "text/plain": [
       "       max\n",
       "0      3.2\n",
       "1      3.1\n",
       "2      4.6\n",
       "3      4.3\n",
       "4      4.0\n",
       "...    ...\n",
       "19714  4.1\n",
       "19715  3.0\n",
       "19716  4.2\n",
       "19717  3.8\n",
       "19718  4.0\n",
       "\n",
       "[19719 rows x 1 columns]"
      ],
      "text/html": "<div>\n<style scoped>\n    .dataframe tbody tr th:only-of-type {\n        vertical-align: middle;\n    }\n\n    .dataframe tbody tr th {\n        vertical-align: top;\n    }\n\n    .dataframe thead th {\n        text-align: right;\n    }\n</style>\n<table border=\"1\" class=\"dataframe\">\n  <thead>\n    <tr style=\"text-align: right;\">\n      <th></th>\n      <th>max</th>\n    </tr>\n  </thead>\n  <tbody>\n    <tr>\n      <th>0</th>\n      <td>3.2</td>\n    </tr>\n    <tr>\n      <th>1</th>\n      <td>3.1</td>\n    </tr>\n    <tr>\n      <th>2</th>\n      <td>4.6</td>\n    </tr>\n    <tr>\n      <th>3</th>\n      <td>4.3</td>\n    </tr>\n    <tr>\n      <th>4</th>\n      <td>4.0</td>\n    </tr>\n    <tr>\n      <th>...</th>\n      <td>...</td>\n    </tr>\n    <tr>\n      <th>19714</th>\n      <td>4.1</td>\n    </tr>\n    <tr>\n      <th>19715</th>\n      <td>3.0</td>\n    </tr>\n    <tr>\n      <th>19716</th>\n      <td>4.2</td>\n    </tr>\n    <tr>\n      <th>19717</th>\n      <td>3.8</td>\n    </tr>\n    <tr>\n      <th>19718</th>\n      <td>4.0</td>\n    </tr>\n  </tbody>\n</table>\n<p>19719 rows × 1 columns</p>\n</div>"
     },
     "metadata": {},
     "execution_count": 4
    }
   ],
   "source": [
    "dmoy11=dmoy[['E','N','A','C','O']].max(axis=1)\n",
    "Max = pd.DataFrame(data=dmoy11,columns=[\"max\"])\n",
    "Max"
   ]
  },
  {
   "cell_type": "code",
   "execution_count": 5,
   "metadata": {
    "scrolled": true
   },
   "outputs": [
    {
     "output_type": "execute_result",
     "data": {
      "text/plain": [
       "0        E\n",
       "1        A\n",
       "2        N\n",
       "3        N\n",
       "4        A\n",
       "        ..\n",
       "19714    N\n",
       "19715    C\n",
       "19716    N\n",
       "19717    N\n",
       "19718    C\n",
       "Length: 19719, dtype: object"
      ]
     },
     "metadata": {},
     "execution_count": 5
    }
   ],
   "source": [
    "personality_type = dmoy[['E','N','A','C','O']].idxmax(axis=1)\n",
    "personality_type"
   ]
  },
  {
   "cell_type": "code",
   "execution_count": 6,
   "metadata": {
    "scrolled": false
   },
   "outputs": [],
   "source": [
    "dmoy[\"maximum\"] = Max\n",
    "dmoy[\"personality_type\"] = personality_type"
   ]
  },
  {
   "cell_type": "markdown",
   "metadata": {},
   "source": [
    "Donc voici le tableau des moyennes et du maximum aux questions de personnalités sur le monde."
   ]
  },
  {
   "cell_type": "code",
   "execution_count": 7,
   "metadata": {
    "scrolled": false
   },
   "outputs": [
    {
     "output_type": "execute_result",
     "data": {
      "text/plain": [
       "   race  age  engnat  gender  hand  source country    E    N    A    C    O  \\\n",
       "0     3   53       1       1     1       1      US  3.2  1.9  3.2  3.1  3.1   \n",
       "1    13   46       1       2     1       1      US  2.8  2.9  3.1  2.8  2.6   \n",
       "2     1   14       2       2     1       1      PK  2.9  4.6  3.8  3.3  4.1   \n",
       "3     3   19       2       2     1       1      RO  3.6  4.3  3.7  3.4  3.7   \n",
       "4    11   25       2       2     1       2      US  2.6  3.2  4.0  2.6  2.2   \n",
       "\n",
       "   maximum personality_type  \n",
       "0      3.2                E  \n",
       "1      3.1                A  \n",
       "2      4.6                N  \n",
       "3      4.3                N  \n",
       "4      4.0                A  "
      ],
      "text/html": "<div>\n<style scoped>\n    .dataframe tbody tr th:only-of-type {\n        vertical-align: middle;\n    }\n\n    .dataframe tbody tr th {\n        vertical-align: top;\n    }\n\n    .dataframe thead th {\n        text-align: right;\n    }\n</style>\n<table border=\"1\" class=\"dataframe\">\n  <thead>\n    <tr style=\"text-align: right;\">\n      <th></th>\n      <th>race</th>\n      <th>age</th>\n      <th>engnat</th>\n      <th>gender</th>\n      <th>hand</th>\n      <th>source</th>\n      <th>country</th>\n      <th>E</th>\n      <th>N</th>\n      <th>A</th>\n      <th>C</th>\n      <th>O</th>\n      <th>maximum</th>\n      <th>personality_type</th>\n    </tr>\n  </thead>\n  <tbody>\n    <tr>\n      <th>0</th>\n      <td>3</td>\n      <td>53</td>\n      <td>1</td>\n      <td>1</td>\n      <td>1</td>\n      <td>1</td>\n      <td>US</td>\n      <td>3.2</td>\n      <td>1.9</td>\n      <td>3.2</td>\n      <td>3.1</td>\n      <td>3.1</td>\n      <td>3.2</td>\n      <td>E</td>\n    </tr>\n    <tr>\n      <th>1</th>\n      <td>13</td>\n      <td>46</td>\n      <td>1</td>\n      <td>2</td>\n      <td>1</td>\n      <td>1</td>\n      <td>US</td>\n      <td>2.8</td>\n      <td>2.9</td>\n      <td>3.1</td>\n      <td>2.8</td>\n      <td>2.6</td>\n      <td>3.1</td>\n      <td>A</td>\n    </tr>\n    <tr>\n      <th>2</th>\n      <td>1</td>\n      <td>14</td>\n      <td>2</td>\n      <td>2</td>\n      <td>1</td>\n      <td>1</td>\n      <td>PK</td>\n      <td>2.9</td>\n      <td>4.6</td>\n      <td>3.8</td>\n      <td>3.3</td>\n      <td>4.1</td>\n      <td>4.6</td>\n      <td>N</td>\n    </tr>\n    <tr>\n      <th>3</th>\n      <td>3</td>\n      <td>19</td>\n      <td>2</td>\n      <td>2</td>\n      <td>1</td>\n      <td>1</td>\n      <td>RO</td>\n      <td>3.6</td>\n      <td>4.3</td>\n      <td>3.7</td>\n      <td>3.4</td>\n      <td>3.7</td>\n      <td>4.3</td>\n      <td>N</td>\n    </tr>\n    <tr>\n      <th>4</th>\n      <td>11</td>\n      <td>25</td>\n      <td>2</td>\n      <td>2</td>\n      <td>1</td>\n      <td>2</td>\n      <td>US</td>\n      <td>2.6</td>\n      <td>3.2</td>\n      <td>4.0</td>\n      <td>2.6</td>\n      <td>2.2</td>\n      <td>4.0</td>\n      <td>A</td>\n    </tr>\n  </tbody>\n</table>\n</div>"
     },
     "metadata": {},
     "execution_count": 7
    }
   ],
   "source": [
    "dmoy.to_csv(\"data_with_mean&max.csv\", index=False)\n",
    "dmoy.head()"
   ]
  },
  {
   "cell_type": "markdown",
   "metadata": {},
   "source": [
    "<div style=\"font-size: medium\">Voici là la moyenne par catégorie de question :</div>"
   ]
  },
  {
   "cell_type": "code",
   "execution_count": 8,
   "metadata": {},
   "outputs": [
    {
     "output_type": "execute_result",
     "data": {
      "text/plain": [
       "E    3.076566\n",
       "dtype: float64"
      ]
     },
     "metadata": {},
     "execution_count": 8
    }
   ],
   "source": [
    "dmoy[['E']].mean(axis=0)"
   ]
  },
  {
   "cell_type": "code",
   "execution_count": 9,
   "metadata": {},
   "outputs": [
    {
     "output_type": "execute_result",
     "data": {
      "text/plain": [
       "N    3.095192\n",
       "dtype: float64"
      ]
     },
     "metadata": {},
     "execution_count": 9
    }
   ],
   "source": [
    "dmoy[['N']].mean(axis=0)"
   ]
  },
  {
   "cell_type": "code",
   "execution_count": 10,
   "metadata": {},
   "outputs": [
    {
     "output_type": "execute_result",
     "data": {
      "text/plain": [
       "A    3.204772\n",
       "dtype: float64"
      ]
     },
     "metadata": {},
     "execution_count": 10
    }
   ],
   "source": [
    "dmoy[['A']].mean(axis=0)"
   ]
  },
  {
   "cell_type": "code",
   "execution_count": 11,
   "metadata": {},
   "outputs": [
    {
     "output_type": "execute_result",
     "data": {
      "text/plain": [
       "C    3.154749\n",
       "dtype: float64"
      ]
     },
     "metadata": {},
     "execution_count": 11
    }
   ],
   "source": [
    "dmoy[['C']].mean(axis=0)"
   ]
  },
  {
   "cell_type": "code",
   "execution_count": 12,
   "metadata": {
    "scrolled": true
   },
   "outputs": [
    {
     "output_type": "execute_result",
     "data": {
      "text/plain": [
       "O    3.313479\n",
       "dtype: float64"
      ]
     },
     "metadata": {},
     "execution_count": 12
    }
   ],
   "source": [
    "dmoy[['O']].mean(axis=0)"
   ]
  },
  {
   "cell_type": "markdown",
   "metadata": {},
   "source": [
    "<div style=\"text-align: center; font-size: xx-large; color: darkred\">Etats-Unis :</div>"
   ]
  },
  {
   "cell_type": "markdown",
   "metadata": {},
   "source": [
    "Maintenant, nous allons faire la même chose pour les Etats-Unis."
   ]
  },
  {
   "cell_type": "markdown",
   "metadata": {},
   "source": [
    "<div style=\"font-size: medium\">Moyenne par catégorie de questions :</div>"
   ]
  },
  {
   "cell_type": "code",
   "execution_count": 13,
   "metadata": {},
   "outputs": [
    {
     "output_type": "execute_result",
     "data": {
      "text/plain": [
       "   race  age  engnat  gender  hand  source country    E    N    A    C    O\n",
       "0     3   53       1       1     1       1      US  3.2  1.9  3.2  3.1  3.1\n",
       "1    13   46       1       2     1       1      US  2.8  2.9  3.1  2.8  2.6\n",
       "4    11   25       2       2     1       2      US  2.6  3.2  4.0  2.6  2.2\n",
       "5    13   31       1       2     1       2      US  2.8  3.2  3.4  3.7  3.5\n",
       "6     5   20       1       2     1       5      US  3.2  2.5  3.7  3.0  2.9"
      ],
      "text/html": "<div>\n<style scoped>\n    .dataframe tbody tr th:only-of-type {\n        vertical-align: middle;\n    }\n\n    .dataframe tbody tr th {\n        vertical-align: top;\n    }\n\n    .dataframe thead th {\n        text-align: right;\n    }\n</style>\n<table border=\"1\" class=\"dataframe\">\n  <thead>\n    <tr style=\"text-align: right;\">\n      <th></th>\n      <th>race</th>\n      <th>age</th>\n      <th>engnat</th>\n      <th>gender</th>\n      <th>hand</th>\n      <th>source</th>\n      <th>country</th>\n      <th>E</th>\n      <th>N</th>\n      <th>A</th>\n      <th>C</th>\n      <th>O</th>\n    </tr>\n  </thead>\n  <tbody>\n    <tr>\n      <th>0</th>\n      <td>3</td>\n      <td>53</td>\n      <td>1</td>\n      <td>1</td>\n      <td>1</td>\n      <td>1</td>\n      <td>US</td>\n      <td>3.2</td>\n      <td>1.9</td>\n      <td>3.2</td>\n      <td>3.1</td>\n      <td>3.1</td>\n    </tr>\n    <tr>\n      <th>1</th>\n      <td>13</td>\n      <td>46</td>\n      <td>1</td>\n      <td>2</td>\n      <td>1</td>\n      <td>1</td>\n      <td>US</td>\n      <td>2.8</td>\n      <td>2.9</td>\n      <td>3.1</td>\n      <td>2.8</td>\n      <td>2.6</td>\n    </tr>\n    <tr>\n      <th>4</th>\n      <td>11</td>\n      <td>25</td>\n      <td>2</td>\n      <td>2</td>\n      <td>1</td>\n      <td>2</td>\n      <td>US</td>\n      <td>2.6</td>\n      <td>3.2</td>\n      <td>4.0</td>\n      <td>2.6</td>\n      <td>2.2</td>\n    </tr>\n    <tr>\n      <th>5</th>\n      <td>13</td>\n      <td>31</td>\n      <td>1</td>\n      <td>2</td>\n      <td>1</td>\n      <td>2</td>\n      <td>US</td>\n      <td>2.8</td>\n      <td>3.2</td>\n      <td>3.4</td>\n      <td>3.7</td>\n      <td>3.5</td>\n    </tr>\n    <tr>\n      <th>6</th>\n      <td>5</td>\n      <td>20</td>\n      <td>1</td>\n      <td>2</td>\n      <td>1</td>\n      <td>5</td>\n      <td>US</td>\n      <td>3.2</td>\n      <td>2.5</td>\n      <td>3.7</td>\n      <td>3.0</td>\n      <td>2.9</td>\n    </tr>\n  </tbody>\n</table>\n</div>"
     },
     "metadata": {},
     "execution_count": 13
    }
   ],
   "source": [
    "det1 = data[data[\"country\"] == \"US\"]\n",
    "det = det1[['race','age','engnat','gender','hand','source','country']]\n",
    "\n",
    "det[\"E\"] = det1[['E1','E2','E3','E4','E5','E6','E7','E8','E9','E10']].mean(axis=1)\n",
    "\n",
    "det[\"N\"]=det1[['N1','N2','N3','N4','N5','N6','N7','N8','N9','N10']].mean(axis=1)\n",
    "\n",
    "det[\"A\"]=det1[['A1','A2','A3','A4','A5','A6','A7','A8','A9','A10']].mean(axis=1)\n",
    "\n",
    "det[\"C\"]=det1[['C1','C2','C3','C4','C5','C6','C7','C8','C9','C10']].mean(axis=1)\n",
    "\n",
    "det[\"O\"]=det1[['O1','O2','O3','O4','O5','O6','O7','O8','O9','O10']].mean(axis=1)\n",
    "\n",
    "det.head()\n"
   ]
  },
  {
   "cell_type": "code",
   "execution_count": 14,
   "metadata": {},
   "outputs": [
    {
     "output_type": "execute_result",
     "data": {
      "text/plain": [
       "       max\n",
       "0      3.2\n",
       "1      3.1\n",
       "4      4.0\n",
       "5      3.7\n",
       "6      3.7\n",
       "...    ...\n",
       "19712  3.6\n",
       "19713  3.3\n",
       "19715  3.0\n",
       "19716  4.2\n",
       "19718  4.0\n",
       "\n",
       "[8753 rows x 1 columns]"
      ],
      "text/html": "<div>\n<style scoped>\n    .dataframe tbody tr th:only-of-type {\n        vertical-align: middle;\n    }\n\n    .dataframe tbody tr th {\n        vertical-align: top;\n    }\n\n    .dataframe thead th {\n        text-align: right;\n    }\n</style>\n<table border=\"1\" class=\"dataframe\">\n  <thead>\n    <tr style=\"text-align: right;\">\n      <th></th>\n      <th>max</th>\n    </tr>\n  </thead>\n  <tbody>\n    <tr>\n      <th>0</th>\n      <td>3.2</td>\n    </tr>\n    <tr>\n      <th>1</th>\n      <td>3.1</td>\n    </tr>\n    <tr>\n      <th>4</th>\n      <td>4.0</td>\n    </tr>\n    <tr>\n      <th>5</th>\n      <td>3.7</td>\n    </tr>\n    <tr>\n      <th>6</th>\n      <td>3.7</td>\n    </tr>\n    <tr>\n      <th>...</th>\n      <td>...</td>\n    </tr>\n    <tr>\n      <th>19712</th>\n      <td>3.6</td>\n    </tr>\n    <tr>\n      <th>19713</th>\n      <td>3.3</td>\n    </tr>\n    <tr>\n      <th>19715</th>\n      <td>3.0</td>\n    </tr>\n    <tr>\n      <th>19716</th>\n      <td>4.2</td>\n    </tr>\n    <tr>\n      <th>19718</th>\n      <td>4.0</td>\n    </tr>\n  </tbody>\n</table>\n<p>8753 rows × 1 columns</p>\n</div>"
     },
     "metadata": {},
     "execution_count": 14
    }
   ],
   "source": [
    "det22=det[['E','N','A','C','O']].max(axis=1)\n",
    "Maxe = pd.DataFrame(data=det22,columns=[\"max\"])\n",
    "Maxe"
   ]
  },
  {
   "cell_type": "code",
   "execution_count": 15,
   "metadata": {},
   "outputs": [
    {
     "output_type": "execute_result",
     "data": {
      "text/plain": [
       "0        E\n",
       "1        A\n",
       "4        A\n",
       "5        C\n",
       "6        A\n",
       "        ..\n",
       "19712    A\n",
       "19713    A\n",
       "19715    C\n",
       "19716    N\n",
       "19718    C\n",
       "Length: 8753, dtype: object"
      ]
     },
     "metadata": {},
     "execution_count": 15
    }
   ],
   "source": [
    "personality_type_us = det[['E','N','A','C','O']].idxmax(axis=1)\n",
    "personality_type_us"
   ]
  },
  {
   "cell_type": "code",
   "execution_count": 16,
   "metadata": {},
   "outputs": [],
   "source": [
    "det[\"Maximum\"] = Maxe\n",
    "det[\"personality_type\"] = personality_type_us"
   ]
  },
  {
   "cell_type": "markdown",
   "metadata": {},
   "source": [
    "Donc voici le tableau des moyennes et du maximum aux questions de personnalités aux Etats-Unis."
   ]
  },
  {
   "cell_type": "code",
   "execution_count": 17,
   "metadata": {},
   "outputs": [
    {
     "output_type": "execute_result",
     "data": {
      "text/plain": [
       "       race  age  engnat  gender  hand  source country    E    N    A    C  \\\n",
       "0         3   53       1       1     1       1      US  3.2  1.9  3.2  3.1   \n",
       "1        13   46       1       2     1       1      US  2.8  2.9  3.1  2.8   \n",
       "4        11   25       2       2     1       2      US  2.6  3.2  4.0  2.6   \n",
       "5        13   31       1       2     1       2      US  2.8  3.2  3.4  3.7   \n",
       "6         5   20       1       2     1       5      US  3.2  2.5  3.7  3.0   \n",
       "...     ...  ...     ...     ...   ...     ...     ...  ...  ...  ...  ...   \n",
       "19712     3   19       1       2     1       3      US  3.2  2.5  3.6  2.8   \n",
       "19713     3   26       1       1     1       2      US  3.0  2.3  3.3  3.1   \n",
       "19715     3   37       1       2     1       2      US  2.9  2.5  2.8  3.0   \n",
       "19716     5   16       2       1     1       2      US  3.5  4.2  3.4  3.7   \n",
       "19718     3   35       1       1     1       1      US  2.8  3.3  3.3  4.0   \n",
       "\n",
       "         O  Maximum personality_type  \n",
       "0      3.1      3.2                E  \n",
       "1      2.6      3.1                A  \n",
       "4      2.2      4.0                A  \n",
       "5      3.5      3.7                C  \n",
       "6      2.9      3.7                A  \n",
       "...    ...      ...              ...  \n",
       "19712  2.9      3.6                A  \n",
       "19713  2.6      3.3                A  \n",
       "19715  2.6      3.0                C  \n",
       "19716  3.3      4.2                N  \n",
       "19718  3.7      4.0                C  \n",
       "\n",
       "[8753 rows x 14 columns]"
      ],
      "text/html": "<div>\n<style scoped>\n    .dataframe tbody tr th:only-of-type {\n        vertical-align: middle;\n    }\n\n    .dataframe tbody tr th {\n        vertical-align: top;\n    }\n\n    .dataframe thead th {\n        text-align: right;\n    }\n</style>\n<table border=\"1\" class=\"dataframe\">\n  <thead>\n    <tr style=\"text-align: right;\">\n      <th></th>\n      <th>race</th>\n      <th>age</th>\n      <th>engnat</th>\n      <th>gender</th>\n      <th>hand</th>\n      <th>source</th>\n      <th>country</th>\n      <th>E</th>\n      <th>N</th>\n      <th>A</th>\n      <th>C</th>\n      <th>O</th>\n      <th>Maximum</th>\n      <th>personality_type</th>\n    </tr>\n  </thead>\n  <tbody>\n    <tr>\n      <th>0</th>\n      <td>3</td>\n      <td>53</td>\n      <td>1</td>\n      <td>1</td>\n      <td>1</td>\n      <td>1</td>\n      <td>US</td>\n      <td>3.2</td>\n      <td>1.9</td>\n      <td>3.2</td>\n      <td>3.1</td>\n      <td>3.1</td>\n      <td>3.2</td>\n      <td>E</td>\n    </tr>\n    <tr>\n      <th>1</th>\n      <td>13</td>\n      <td>46</td>\n      <td>1</td>\n      <td>2</td>\n      <td>1</td>\n      <td>1</td>\n      <td>US</td>\n      <td>2.8</td>\n      <td>2.9</td>\n      <td>3.1</td>\n      <td>2.8</td>\n      <td>2.6</td>\n      <td>3.1</td>\n      <td>A</td>\n    </tr>\n    <tr>\n      <th>4</th>\n      <td>11</td>\n      <td>25</td>\n      <td>2</td>\n      <td>2</td>\n      <td>1</td>\n      <td>2</td>\n      <td>US</td>\n      <td>2.6</td>\n      <td>3.2</td>\n      <td>4.0</td>\n      <td>2.6</td>\n      <td>2.2</td>\n      <td>4.0</td>\n      <td>A</td>\n    </tr>\n    <tr>\n      <th>5</th>\n      <td>13</td>\n      <td>31</td>\n      <td>1</td>\n      <td>2</td>\n      <td>1</td>\n      <td>2</td>\n      <td>US</td>\n      <td>2.8</td>\n      <td>3.2</td>\n      <td>3.4</td>\n      <td>3.7</td>\n      <td>3.5</td>\n      <td>3.7</td>\n      <td>C</td>\n    </tr>\n    <tr>\n      <th>6</th>\n      <td>5</td>\n      <td>20</td>\n      <td>1</td>\n      <td>2</td>\n      <td>1</td>\n      <td>5</td>\n      <td>US</td>\n      <td>3.2</td>\n      <td>2.5</td>\n      <td>3.7</td>\n      <td>3.0</td>\n      <td>2.9</td>\n      <td>3.7</td>\n      <td>A</td>\n    </tr>\n    <tr>\n      <th>...</th>\n      <td>...</td>\n      <td>...</td>\n      <td>...</td>\n      <td>...</td>\n      <td>...</td>\n      <td>...</td>\n      <td>...</td>\n      <td>...</td>\n      <td>...</td>\n      <td>...</td>\n      <td>...</td>\n      <td>...</td>\n      <td>...</td>\n      <td>...</td>\n    </tr>\n    <tr>\n      <th>19712</th>\n      <td>3</td>\n      <td>19</td>\n      <td>1</td>\n      <td>2</td>\n      <td>1</td>\n      <td>3</td>\n      <td>US</td>\n      <td>3.2</td>\n      <td>2.5</td>\n      <td>3.6</td>\n      <td>2.8</td>\n      <td>2.9</td>\n      <td>3.6</td>\n      <td>A</td>\n    </tr>\n    <tr>\n      <th>19713</th>\n      <td>3</td>\n      <td>26</td>\n      <td>1</td>\n      <td>1</td>\n      <td>1</td>\n      <td>2</td>\n      <td>US</td>\n      <td>3.0</td>\n      <td>2.3</td>\n      <td>3.3</td>\n      <td>3.1</td>\n      <td>2.6</td>\n      <td>3.3</td>\n      <td>A</td>\n    </tr>\n    <tr>\n      <th>19715</th>\n      <td>3</td>\n      <td>37</td>\n      <td>1</td>\n      <td>2</td>\n      <td>1</td>\n      <td>2</td>\n      <td>US</td>\n      <td>2.9</td>\n      <td>2.5</td>\n      <td>2.8</td>\n      <td>3.0</td>\n      <td>2.6</td>\n      <td>3.0</td>\n      <td>C</td>\n    </tr>\n    <tr>\n      <th>19716</th>\n      <td>5</td>\n      <td>16</td>\n      <td>2</td>\n      <td>1</td>\n      <td>1</td>\n      <td>2</td>\n      <td>US</td>\n      <td>3.5</td>\n      <td>4.2</td>\n      <td>3.4</td>\n      <td>3.7</td>\n      <td>3.3</td>\n      <td>4.2</td>\n      <td>N</td>\n    </tr>\n    <tr>\n      <th>19718</th>\n      <td>3</td>\n      <td>35</td>\n      <td>1</td>\n      <td>1</td>\n      <td>1</td>\n      <td>1</td>\n      <td>US</td>\n      <td>2.8</td>\n      <td>3.3</td>\n      <td>3.3</td>\n      <td>4.0</td>\n      <td>3.7</td>\n      <td>4.0</td>\n      <td>C</td>\n    </tr>\n  </tbody>\n</table>\n<p>8753 rows × 14 columns</p>\n</div>"
     },
     "metadata": {},
     "execution_count": 17
    }
   ],
   "source": [
    "det"
   ]
  },
  {
   "cell_type": "markdown",
   "metadata": {},
   "source": [
    "<div style=\"font-size: medium\">Voici là la moyenne par catégorie de question :</div>"
   ]
  },
  {
   "cell_type": "code",
   "execution_count": 18,
   "metadata": {},
   "outputs": [
    {
     "output_type": "execute_result",
     "data": {
      "text/plain": [
       "E    3.068537\n",
       "dtype: float64"
      ]
     },
     "metadata": {},
     "execution_count": 18
    }
   ],
   "source": [
    "det[['E']].mean(axis=0)"
   ]
  },
  {
   "cell_type": "code",
   "execution_count": 19,
   "metadata": {},
   "outputs": [
    {
     "output_type": "execute_result",
     "data": {
      "text/plain": [
       "N    3.019273\n",
       "dtype: float64"
      ]
     },
     "metadata": {},
     "execution_count": 19
    }
   ],
   "source": [
    "det[['N']].mean(axis=0)"
   ]
  },
  {
   "cell_type": "code",
   "execution_count": 20,
   "metadata": {},
   "outputs": [
    {
     "output_type": "execute_result",
     "data": {
      "text/plain": [
       "A    3.183034\n",
       "dtype: float64"
      ]
     },
     "metadata": {},
     "execution_count": 20
    }
   ],
   "source": [
    "det[['A']].mean(axis=0)"
   ]
  },
  {
   "cell_type": "code",
   "execution_count": 21,
   "metadata": {},
   "outputs": [
    {
     "output_type": "execute_result",
     "data": {
      "text/plain": [
       "C    3.17065\n",
       "dtype: float64"
      ]
     },
     "metadata": {},
     "execution_count": 21
    }
   ],
   "source": [
    "det[['C']].mean(axis=0)"
   ]
  },
  {
   "cell_type": "code",
   "execution_count": 22,
   "metadata": {},
   "outputs": [
    {
     "output_type": "execute_result",
     "data": {
      "text/plain": [
       "O    3.328619\n",
       "dtype: float64"
      ]
     },
     "metadata": {},
     "execution_count": 22
    }
   ],
   "source": [
    "det[['O']].mean(axis=0)"
   ]
  }
 ],
 "metadata": {
  "kernelspec": {
   "display_name": "Python 3",
   "language": "python",
   "name": "python3"
  },
  "language_info": {
   "codemirror_mode": {
    "name": "ipython",
    "version": 3
   },
   "file_extension": ".py",
   "mimetype": "text/x-python",
   "name": "python",
   "nbconvert_exporter": "python",
   "pygments_lexer": "ipython3",
   "version": "3.7.3-final"
  }
 },
 "nbformat": 4,
 "nbformat_minor": 4
}